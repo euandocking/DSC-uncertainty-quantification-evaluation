{
 "cells": [
  {
   "cell_type": "markdown",
   "metadata": {
    "id": "9wglE1uRQYql"
   },
   "source": [
    "Import required libraries"
   ]
  },
  {
   "cell_type": "code",
   "execution_count": 1,
   "metadata": {
    "colab": {
     "base_uri": "https://localhost:8080/"
    },
    "id": "GaH6-z_OKyRj",
    "outputId": "45e117ea-d35e-4899-ae0c-ccd4f7cef605"
   },
   "outputs": [],
   "source": [
    "import torch\n",
    "import torch.nn as nn\n",
    "import torch.optim as optim\n",
    "from torch.optim import lr_scheduler\n",
    "import torch.backends.cudnn as cudnn\n",
    "import numpy as np\n",
    "import torchvision\n",
    "from torchvision import datasets, models, transforms\n",
    "import matplotlib.pyplot as plt\n",
    "import os\n",
    "from PIL import Image\n",
    "from tempfile import TemporaryDirectory\n",
    "import pandas as pd\n",
    "import shutil\n",
    "import random\n",
    "import torch.nn.functional as F\n",
    "from torch.utils.data.sampler import WeightedRandomSampler\n",
    "import time\n",
    "from datetime import datetime\n",
    "import datetime as dt\n",
    "import copy\n",
    "from efficientnet_pytorch import EfficientNet\n",
    "from torchvision.models import efficientnet_b0, EfficientNet_B0_Weights\n",
    "from torchvision.models._api import WeightsEnum\n",
    "from torch.hub import load_state_dict_from_url"
   ]
  },
  {
   "cell_type": "code",
   "execution_count": 2,
   "metadata": {},
   "outputs": [],
   "source": [
    "from data_setup import copy_images_to_folders\n",
    "from image_check import imshow\n",
    "from model import CustomEfficientNetB0, validate_model, train_model, plot_metrics, visualize_model\n",
    "from uncertainty_metrics import calculate_risks, process_labels, calculate_and_append_risks, calculate_and_append_risks_by_class, calculate_softmax_uncertainties, calculate_top2_softmax_uncertainties, calculate_random_uncertainties, calculate_mc_dropout_uncertainties_by_sample, calculate_mc_dropout_uncertainties_by_class, calculate_variance_uncertainties, calculate_variational_ratio_uncertainties, calculate_entropy_uncertainties, calculate_predictive_entropy_uncertainties, calculate_mutual_information_uncertainties, smooth_calcs, calculate_aurc, plot_risk_coverage"
   ]
  },
  {
   "cell_type": "code",
   "execution_count": 3,
   "metadata": {},
   "outputs": [],
   "source": [
    "# use best algorithm for hardware\n",
    "cudnn.benchmark = True\n",
    "\n",
    "# interactive mode for graph plot\n",
    "plt.ion()\n",
    "\n",
    "# set device to GPU if available\n",
    "device = torch.device(\"cuda:0\" if torch.cuda.is_available() else \"cpu\")"
   ]
  },
  {
   "cell_type": "markdown",
   "metadata": {
    "id": "4JU3HfHzSspI"
   },
   "source": [
    "Sort data into folders based on class"
   ]
  },
  {
   "cell_type": "code",
   "execution_count": 4,
   "metadata": {
    "id": "q7txNfNASrDG"
   },
   "outputs": [
    {
     "name": "stdout",
     "output_type": "stream",
     "text": [
      "done\n"
     ]
    }
   ],
   "source": [
    "csv_path = 'data/ISIC_2019_Training_GroundTruth.csv'\n",
    "image_folder = 'data/ISIC_2019_Resized'\n",
    "output_folder = 'data/ISIC_Sorted'\n",
    "\n",
    "copy_images_to_folders(csv_path, image_folder, output_folder)\n",
    "\n",
    "print(\"done\")"
   ]
  },
  {
   "cell_type": "markdown",
   "metadata": {
    "id": "BSZnksOtT5GQ"
   },
   "source": [
    "Split data into training, validation and test"
   ]
  },
  {
   "cell_type": "code",
   "execution_count": 5,
   "metadata": {
    "colab": {
     "base_uri": "https://localhost:8080/",
     "height": 54
    },
    "id": "ixMk4IkpER3K",
    "outputId": "8c2c4eac-efc0-473f-af44-e5caccf646c8"
   },
   "outputs": [
    {
     "name": "stdout",
     "output_type": "stream",
     "text": [
      "done\n"
     ]
    }
   ],
   "source": [
    "# declare variables for model creation\n",
    "input_folder = 'data/ISIC_Sorted'  # This is the folder containing class subdirectories\n",
    "output_folder = 'data/data_subset'  # The desired output folder for \"training\" and \"validation\" folders\n",
    "sample_limit=None #None or a number up to 12875\n",
    "train_ratio=0.334\n",
    "val_ratio=0.333\n",
    "test_ratio=0.333\n",
    "\n",
    "if train_ratio+val_ratio+test_ratio != 1:\n",
    "    print(\"invalid data ratios\")\n",
    "\n",
    "set_batch_size=64\n",
    "\n",
    "#sample numbers by class copied here for reference\n",
    "#MEL\tNV\t    BCC\t    AK\t BKL\tDF\tVASC  SCC\tUNK\n",
    "#4522\t12875\t3323\t867\t 2624\t239\t253\t  628\t0\n",
    "\n",
    "print(\"done\")"
   ]
  },
  {
   "cell_type": "code",
   "execution_count": 6,
   "metadata": {},
   "outputs": [],
   "source": [
    "training_folder = os.path.join(output_folder, 'train')\n",
    "validation_folder = os.path.join(output_folder, 'val')\n",
    "test_folder = os.path.join(output_folder, 'test')"
   ]
  },
  {
   "cell_type": "code",
   "execution_count": 7,
   "metadata": {
    "id": "D097WZYyDNLX"
   },
   "outputs": [
    {
     "name": "stdout",
     "output_type": "stream",
     "text": [
      "done\n"
     ]
    }
   ],
   "source": [
    "# Remove existing \"training\" and \"validation\" folders if they exist\n",
    "shutil.rmtree(training_folder, ignore_errors=True)\n",
    "shutil.rmtree(validation_folder, ignore_errors=True)\n",
    "shutil.rmtree(test_folder, ignore_errors=True)\n",
    "\n",
    "# Create the \"training\" and \"validation\" folders\n",
    "os.makedirs(training_folder, exist_ok=True)\n",
    "os.makedirs(validation_folder, exist_ok=True)\n",
    "os.makedirs(test_folder, exist_ok=True)\n",
    "\n",
    "# generate list of class names from the folder structure\n",
    "class_names = [class_name for class_name in os.listdir(input_folder) if os.path.isdir(os.path.join(input_folder, class_name))]\n",
    "\n",
    "print(\"done\")"
   ]
  },
  {
   "cell_type": "code",
   "execution_count": 8,
   "metadata": {},
   "outputs": [
    {
     "name": "stdout",
     "output_type": "stream",
     "text": [
      "done\n"
     ]
    }
   ],
   "source": [
    "# Iterate through each class folder\n",
    "for class_name in os.listdir(input_folder):\n",
    "    class_folder_input = os.path.join(input_folder, class_name)\n",
    "    if os.path.isdir(class_folder_input):\n",
    "        # Get a list of all images in the class folder\n",
    "        images = [img for img in os.listdir(class_folder_input) if img.endswith('.jpg')]\n",
    "        \n",
    "        # Limit the number of samples if sample_limit is provided\n",
    "        if sample_limit is not None:\n",
    "            images = images[:sample_limit]\n",
    "\n",
    "        # Randomly shuffle the list of images\n",
    "        np.random.seed(42)\n",
    "        np.random.shuffle(images)\n",
    "\n",
    "        # Calculate the number of samples for training and validation\n",
    "        class_size = len(images)\n",
    "        num_training_samples = int(class_size * train_ratio)\n",
    "        num_val_samples = int(class_size * val_ratio)\n",
    "        num_test_samples = int(class_size * test_ratio)\n",
    "\n",
    "        # Create the class subfolders within the output folders\n",
    "        class_folder_training = os.path.join(training_folder, class_name)\n",
    "        class_folder_validation = os.path.join(validation_folder, class_name)\n",
    "        class_folder_test = os.path.join(test_folder, class_name)\n",
    "        os.makedirs(class_folder_training, exist_ok=True)\n",
    "        os.makedirs(class_folder_validation, exist_ok=True)\n",
    "        os.makedirs(class_folder_test, exist_ok=True)\n",
    "\n",
    "        # Copy images to the training folder\n",
    "        for image_name in images[:num_training_samples]:\n",
    "            image_path = os.path.join(class_folder_input, image_name)\n",
    "            shutil.copy(image_path, class_folder_training)\n",
    "        # Copy images to the validation folder\n",
    "        for image_name in images[num_training_samples:num_training_samples + num_val_samples]:\n",
    "            image_path = os.path.join(class_folder_input, image_name)\n",
    "            shutil.copy(image_path, class_folder_validation)\n",
    "        # Copy images to the test folder\n",
    "        for image_name in images[num_training_samples + num_val_samples:]:\n",
    "            image_path = os.path.join(class_folder_input, image_name)\n",
    "            shutil.copy(image_path, class_folder_test)\n",
    "\n",
    "print(\"done\")"
   ]
  },
  {
   "cell_type": "code",
   "execution_count": 9,
   "metadata": {
    "id": "miNkN44TDZFM"
   },
   "outputs": [],
   "source": [
    "#remove unknown folder as no samples\n",
    "shutil.rmtree(\"data/data_subset/train/UNK\", ignore_errors=True)\n",
    "shutil.rmtree(\"data/data_subset/val/UNK\", ignore_errors=True)\n",
    "shutil.rmtree(\"data/data_subset/test/UNK\", ignore_errors=True)"
   ]
  },
  {
   "cell_type": "code",
   "execution_count": 10,
   "metadata": {
    "id": "8XVgfadKDdXE"
   },
   "outputs": [],
   "source": [
    "#transform data\n",
    "data_transforms = {\n",
    "'train': transforms.Compose([\n",
    "    transforms.RandomHorizontalFlip(),\n",
    "    transforms.RandomVerticalFlip(),\n",
    "    transforms.RandomRotation(degrees=360),\n",
    "    transforms.ColorJitter(brightness=0.1, contrast=0.1, saturation=0.1, hue=0.1),\n",
    "    transforms.GaussianBlur(kernel_size=3),\n",
    "    transforms.RandomAffine(degrees=0, translate=(0.05, 0.05), shear=10),\n",
    "    transforms.ToTensor(),\n",
    "    transforms.Normalize([0.485, 0.456, 0.406], [0.229, 0.224, 0.225])\n",
    "]),\n",
    "'val': transforms.Compose([\n",
    "    transforms.ToTensor(),\n",
    "    transforms.Normalize([0.485, 0.456, 0.406], [0.229, 0.224, 0.225])\n",
    "]),\n",
    "'test': transforms.Compose([\n",
    "    transforms.ToTensor(),\n",
    "    transforms.Normalize([0.485, 0.456, 0.406], [0.229, 0.224, 0.225])\n",
    "]),\n",
    "}"
   ]
  },
  {
   "cell_type": "code",
   "execution_count": 11,
   "metadata": {
    "colab": {
     "base_uri": "https://localhost:8080/"
    },
    "id": "4X4h6BniL9Vp",
    "outputId": "9954bcb6-c1cc-41f7-b6d8-8cf67d96198c"
   },
   "outputs": [
    {
     "name": "stdout",
     "output_type": "stream",
     "text": [
      "file:  ['AK', 'BCC', 'BKL', 'DF', 'MEL', 'NV', 'SCC', 'VASC']\n"
     ]
    }
   ],
   "source": [
    "# create datasets and dataloaders\n",
    "image_datasets = {x: datasets.ImageFolder(os.path.join(output_folder, x), data_transforms[x]) for x in ['train', 'val', 'test']}\n",
    "dataloaders = {x: torch.utils.data.DataLoader(image_datasets[x], batch_size=set_batch_size, shuffle=True, num_workers=2) for x in ['train', 'val', 'test']}\n",
    "dataset_sizes = {x: len(image_datasets[x]) for x in ['train', 'val', 'test']}\n",
    "\n",
    "#print checks to see if the values are the same - if yes then can remove the assignment here\n",
    "class_names = image_datasets['train'].classes\n",
    "num_classes = len(class_names)\n",
    "print(f\"file: \", class_names)"
   ]
  },
  {
   "cell_type": "markdown",
   "metadata": {
    "id": "RFMOhsIdQov5"
   },
   "source": [
    "show sample images"
   ]
  },
  {
   "cell_type": "code",
   "execution_count": 12,
   "metadata": {
    "colab": {
     "base_uri": "https://localhost:8080/",
     "height": 331
    },
    "id": "ZGxDjkKlN9Z-",
    "outputId": "1acf728e-a451-4471-ba8d-f956c03624a5"
   },
   "outputs": [
    {
     "data": {
      "image/png": "[encoded data removed]",
      "text/plain": [
       "<Figure size 640x480 with 1 Axes>"
      ]
     },
     "metadata": {},
     "output_type": "display_data"
    }
   ],
   "source": [
    "# Specify the number of images to display\n",
    "num_images = 4\n",
    "\n",
    "# Get a batch of training data\n",
    "inputs, classes = next(iter(dataloaders['train']))\n",
    "\n",
    "# Select a subset of images\n",
    "inputs_subset = inputs[:num_images]\n",
    "classes_subset = classes[:num_images]\n",
    "\n",
    "# Make a grid from the subset\n",
    "out = torchvision.utils.make_grid(inputs_subset)\n",
    "\n",
    "imshow(out, title=[class_names[x] for x in classes_subset])"
   ]
  },
  {
   "cell_type": "markdown",
   "metadata": {
    "id": "ToECJPIxgkz0"
   },
   "source": [
    "temporary fix for efficientnet weights issue"
   ]
  },
  {
   "cell_type": "code",
   "execution_count": 13,
   "metadata": {},
   "outputs": [],
   "source": [
    "def get_state_dict(self, *args, **kwargs):\n",
    "    kwargs.pop(\"check_hash\")\n",
    "    return load_state_dict_from_url(self.url, *args, **kwargs)\n",
    "WeightsEnum.get_state_dict = get_state_dict"
   ]
  },
  {
   "cell_type": "markdown",
   "metadata": {
    "id": "qA6NdpeVQ0IU"
   },
   "source": [
    "model fitting configuration"
   ]
  },
  {
   "cell_type": "code",
   "execution_count": 14,
   "metadata": {
    "colab": {
     "base_uri": "https://localhost:8080/"
    },
    "id": "65NHU01pOODQ",
    "outputId": "ce37c308-f9cc-49f5-cca4-85ca4cc0ca6a"
   },
   "outputs": [
    {
     "name": "stdout",
     "output_type": "stream",
     "text": [
      "Loaded pretrained weights for efficientnet-b0\n"
     ]
    }
   ],
   "source": [
    "train_losses = []\n",
    "train_accuracies = []\n",
    "val_losses = []\n",
    "val_accuracies = []\n",
    "best_epoch = 1\n",
    "\n",
    "# Initialize the custom model with dropout\n",
    "model_ft = CustomEfficientNetB0(num_classes=num_classes, dropout_prob=0.3)\n",
    "\n",
    "# Move the model to the specified device (e.g., GPU or CPU)\n",
    "model_ft = model_ft.to(device)\n",
    "\n",
    "# Define the loss function (cross-entropy loss)\n",
    "criterion = nn.CrossEntropyLoss()\n",
    "\n",
    "# Use the Adam optimizer for training\n",
    "optimizer_ft = optim.Adam(model_ft.parameters(), lr=0.001)\n",
    "\n",
    "# Define a learning rate scheduler to decay the learning rate\n",
    "# by a factor of 0.1 every 7 epochs\n",
    "exp_lr_scheduler = lr_scheduler.StepLR(optimizer_ft, step_size=7, gamma=0.1)"
   ]
  },
  {
   "cell_type": "code",
   "execution_count": 15,
   "metadata": {},
   "outputs": [
    {
     "name": "stdout",
     "output_type": "stream",
     "text": [
      "Class Weights: {0: 3.6574394463667823, 1: 0.9531109107303877, 2: 1.20662100456621, 3: 13.379746835443038, 4: 0.7, 5: 0.2458139534883721, 6: 5.057416267942584, 7: 12.583333333333332}\n"
     ]
    }
   ],
   "source": [
    "# Calculate class weights\n",
    "class_weights = {}\n",
    "total_samples = 0\n",
    "\n",
    "# Initialize class counts dictionary\n",
    "class_counts = {class_idx: 0 for class_idx in range(len(image_datasets['train'].classes))}\n",
    "\n",
    "# Iterate over training dataloader to count samples for each class\n",
    "for inputs, labels in dataloaders['train']:\n",
    "    for label in labels:\n",
    "        class_counts[label.item()] += 1\n",
    "        total_samples += 1\n",
    "\n",
    "# Calculate class weights using the formula\n",
    "for class_idx, count in class_counts.items():\n",
    "    class_weights[class_idx] = (1 / count) * (total_samples / len(class_counts))\n",
    "\n",
    "# Print class weights\n",
    "print(\"Class Weights:\", class_weights)\n",
    "\n",
    "# Define the loss function (cross-entropy loss) with class weights\n",
    "criterion = nn.CrossEntropyLoss(weight=torch.tensor(list(class_weights.values()), dtype=torch.float)).to(device)"
   ]
  },
  {
   "cell_type": "code",
   "execution_count": null,
   "metadata": {},
   "outputs": [],
   "source": [
    "#load the saved model\n",
    "model_ft.load_state_dict(torch.load('data/trained_model.pth'))"
   ]
  },
  {
   "cell_type": "code",
   "execution_count": null,
   "metadata": {},
   "outputs": [
    {
     "name": "stdout",
     "output_type": "stream",
     "text": [
      "Epoch 1/50 - 2024-03-11 00:16:56\n",
      "----------\n",
      "Train Loss: 0.2187, Train Acc: 0.4180\n",
      "Val Loss: 0.2605, Val Acc: 0.5145\n",
      "\n",
      "Epoch 2/50 - 2024-03-11 00:42:29\n",
      "----------\n",
      "Train Loss: 0.1878, Train Acc: 0.4852\n",
      "Val Loss: 0.3684, Val Acc: 0.4627\n",
      "\n",
      "Epoch 3/50 - 2024-03-11 01:07:58\n",
      "----------\n",
      "Train Loss: 0.1768, Train Acc: 0.5026\n",
      "Val Loss: 0.2300, Val Acc: 0.3715\n",
      "\n",
      "Epoch 4/50 - 2024-03-11 01:33:27\n",
      "----------\n",
      "Train Loss: 0.1763, Train Acc: 0.5115\n",
      "Val Loss: 0.1898, Val Acc: 0.4148\n",
      "\n",
      "Epoch 5/50 - 2024-03-11 01:58:56\n",
      "----------\n",
      "Train Loss: 0.1612, Train Acc: 0.5473\n",
      "Val Loss: 0.1850, Val Acc: 0.5303\n",
      "\n",
      "Epoch 6/50 - 2024-03-11 02:24:22\n",
      "----------\n",
      "Train Loss: 0.1541, Train Acc: 0.5627\n",
      "Val Loss: 0.1773, Val Acc: 0.5702\n",
      "\n",
      "Epoch 7/50 - 2024-03-11 02:49:50\n",
      "----------\n",
      "Train Loss: 0.1466, Train Acc: 0.5743\n",
      "Val Loss: 0.1732, Val Acc: 0.6278\n",
      "\n",
      "Epoch 8/50 - 2024-03-11 03:15:42\n",
      "----------\n",
      "Train Loss: 0.1410, Train Acc: 0.5919\n",
      "Val Loss: 0.1620, Val Acc: 0.5557\n",
      "\n",
      "Epoch 9/50 - 2024-03-11 03:42:14\n",
      "----------\n",
      "Train Loss: 0.1418, Train Acc: 0.5829\n",
      "Val Loss: 0.1588, Val Acc: 0.5251\n",
      "\n",
      "Epoch 10/50 - 2024-03-11 04:25:29\n",
      "----------\n",
      "Train Loss: 0.1342, Train Acc: 0.5969\n",
      "Val Loss: 0.1733, Val Acc: 0.6075\n",
      "\n",
      "Epoch 11/50 - 2024-03-11 05:21:59\n",
      "----------\n",
      "Train Loss: 0.1257, Train Acc: 0.6037\n",
      "Val Loss: 0.1688, Val Acc: 0.5920\n",
      "\n",
      "Epoch 12/50 - 2024-03-11 06:20:25\n",
      "----------\n",
      "Train Loss: 0.1276, Train Acc: 0.6030\n",
      "Val Loss: 0.1506, Val Acc: 0.5831\n",
      "\n",
      "Epoch 13/50 - 2024-03-11 07:18:40\n",
      "----------\n",
      "Train Loss: 0.1342, Train Acc: 0.6004\n",
      "Val Loss: 0.1716, Val Acc: 0.5922\n",
      "\n",
      "Epoch 14/50 - 2024-03-11 08:19:09\n",
      "----------\n",
      "Train Loss: 0.1209, Train Acc: 0.6225\n",
      "Val Loss: 0.2356, Val Acc: 0.4239\n",
      "\n",
      "Epoch 15/50 - 2024-03-11 09:17:16\n",
      "----------\n",
      "Train Loss: 0.1224, Train Acc: 0.6106\n",
      "Val Loss: 0.2274, Val Acc: 0.5307\n",
      "\n",
      "Epoch 16/50 - 2024-03-11 10:16:36\n",
      "----------\n",
      "Train Loss: 0.1174, Train Acc: 0.6412\n",
      "Val Loss: 0.1686, Val Acc: 0.6601\n",
      "\n",
      "Epoch 17/50 - 2024-03-11 11:15:56\n",
      "----------\n",
      "Train Loss: 0.1107, Train Acc: 0.6353\n",
      "Val Loss: 0.1473, Val Acc: 0.6285\n",
      "\n",
      "Epoch 18/50 - 2024-03-11 12:15:17\n",
      "----------\n",
      "Train Loss: 0.1013, Train Acc: 0.6604\n",
      "Val Loss: 0.1595, Val Acc: 0.5986\n",
      "\n",
      "Epoch 19/50 - 2024-03-11 13:14:24\n",
      "----------\n",
      "Train Loss: 0.0992, Train Acc: 0.6539\n",
      "Val Loss: 0.1639, Val Acc: 0.6222\n",
      "\n",
      "Epoch 20/50 - 2024-03-11 14:13:34\n",
      "----------\n",
      "Train Loss: 0.0945, Train Acc: 0.6740\n",
      "Val Loss: 0.1800, Val Acc: 0.6048\n",
      "\n",
      "Epoch 21/50 - 2024-03-11 15:12:46\n",
      "----------\n",
      "Train Loss: 0.0925, Train Acc: 0.6658\n",
      "Val Loss: 0.1576, Val Acc: 0.6381\n",
      "\n",
      "Epoch 22/50 - 2024-03-11 16:12:00\n",
      "----------\n",
      "Train Loss: 0.0863, Train Acc: 0.6845\n",
      "Val Loss: 0.1691, Val Acc: 0.6169\n",
      "\n",
      "Epoch 23/50 - 2024-03-11 17:11:44\n",
      "----------\n",
      "Train Loss: 0.0876, Train Acc: 0.6829\n",
      "Val Loss: 0.1793, Val Acc: 0.6701\n",
      "\n",
      "Epoch 24/50 - 2024-03-11 18:14:51\n",
      "----------\n",
      "Train Loss: 0.0920, Train Acc: 0.6835\n",
      "Val Loss: 0.1652, Val Acc: 0.6531\n",
      "\n",
      "Epoch 25/50 - 2024-03-11 19:14:57\n",
      "----------\n",
      "Train Loss: 0.0850, Train Acc: 0.6942\n"
     ]
    }
   ],
   "source": [
    "train_model(model_ft, criterion, optimizer_ft, exp_lr_scheduler, dataloaders, dataset_sizes, device, train_losses, train_accuracies, val_losses, val_accuracies, best_epoch, num_epochs=50, num_val_mc_samples=100, loss_weight=99, acc_weight=1, num_classes=num_classes)"
   ]
  },
  {
   "cell_type": "code",
   "execution_count": null,
   "metadata": {},
   "outputs": [],
   "source": [
    "plot_metrics(train_losses, train_accuracies, val_losses, val_accuracies, best_epoch)"
   ]
  },
  {
   "cell_type": "code",
   "execution_count": null,
   "metadata": {},
   "outputs": [],
   "source": [
    "# Save the trained model\n",
    "torch.save(model_ft.state_dict(), 'data/trained_model.pth')"
   ]
  },
  {
   "cell_type": "markdown",
   "metadata": {
    "id": "GboEK9R6Q6CQ"
   },
   "source": [
    "visualise trained model"
   ]
  },
  {
   "cell_type": "code",
   "execution_count": null,
   "metadata": {},
   "outputs": [],
   "source": [
    "visualize_model(model_ft, dataloaders['val'], device, class_names, num_images=4)"
   ]
  },
  {
   "cell_type": "code",
   "execution_count": null,
   "metadata": {},
   "outputs": [],
   "source": [
    "def process_uncertainties(model, dataloader, class_names, device, uncertainty_function, uncertainty_name, *args, num_samples=None):\n",
    "    # Calculate uncertainties using the provided function\n",
    "    if num_samples is not None:\n",
    "        guesses_are_correct, uncertainties, sample_labels = uncertainty_function(model, dataloader, class_names, device, num_samples)\n",
    "    else:\n",
    "        guesses_are_correct, uncertainties, sample_labels = uncertainty_function(model, dataloader, class_names, device)\n",
    "    \n",
    "    # Process labels and uncertainties by class\n",
    "    guesses_are_correct_by_class, uncertainties_by_class = process_labels(sample_labels, guesses_are_correct, uncertainties, class_names)\n",
    "    \n",
    "    # Append risks and labels to the global lists\n",
    "    calculate_and_append_risks(risks_list, labels_list, guesses_are_correct, uncertainties, uncertainty_name)\n",
    "    calculate_and_append_risks_by_class(risks_list_by_class, labels_list_by_class, guesses_are_correct_by_class, uncertainties_by_class, class_names, uncertainty_name)\n",
    "    \n",
    "    print(uncertainty_name, \"processed\")\n",
    "\n",
    "# Lists to store results\n",
    "risks_list = []\n",
    "labels_list = []\n",
    "\n",
    "risks_list_by_class = [[] for _ in range(len(class_names))]\n",
    "labels_list_by_class = [[] for _ in range(len(class_names))]\n",
    "\n",
    "uncertainty_functions = [\n",
    "    (calculate_softmax_uncertainties, \"Softmax Response\"),\n",
    "    (calculate_top2_softmax_uncertainties, \"Top2 Softmax Difference\"),\n",
    "    (calculate_random_uncertainties, \"Random Uncertainties\"),\n",
    "    (calculate_mc_dropout_uncertainties_by_sample, \"MCD By Sample\", 100),\n",
    "    (calculate_mc_dropout_uncertainties_by_class, \"MCD By Class\", 100),\n",
    "    (calculate_variance_uncertainties, \"Variance\"),\n",
    "    (calculate_variational_ratio_uncertainties, \"Variational Ratio\"),\n",
    "    (calculate_entropy_uncertainties, \"Entropy\"),\n",
    "    (calculate_predictive_entropy_uncertainties, \"Predictive Entropy\", 100),\n",
    "    (calculate_mutual_information_uncertainties, \"Mutual Information\")\n",
    "]\n",
    "\n",
    "# Iterate over each uncertainty calculation function\n",
    "for function, name, *args in uncertainty_functions:\n",
    "    # Call the process_uncertainties function with the current uncertainty calculation function and parameters\n",
    "    process_uncertainties(model_ft, dataloaders['test'], class_names, device, function, name, *args)\n",
    "\n",
    "print(\"Done\")"
   ]
  },
  {
   "cell_type": "code",
   "execution_count": null,
   "metadata": {},
   "outputs": [],
   "source": [
    "description_list = [\n",
    "    \"Softmax Response measures the model's confidence in its predictions based on the softmax probabilities.\",\n",
    "    \"Top2 Softmax Difference measures the uncertainty by calculating the difference between the top two softmax probabilities\",\n",
    "    \"Random Uncertainties assigns random uncertainty values to each prediction, providing a baseline comparison for uncertainty estimation methods.\",\n",
    "    \"MCD By Sample utilizes Monte Carlo Dropout (MCD) to estimate uncertainties by averaging predictions across multiple samples with dropout.\",\n",
    "    \"MCD By Class employs Monte Carlo Dropout (MCD) to estimate uncertainties by averaging predictions across multiple samples with dropout for each class.\",\n",
    "    \"Variance calculates uncertainty by computing the variance of softmax probabilities across classes for each prediction.\",\n",
    "    \"Variational Ratio calculates uncertainty by computing the ratio of the maximum softmax probability (mode probability) to the maximum probability among other classes for each prediction.\",\n",
    "    \"Entropy calculates uncertainty by measuring the entropy of softmax probabilities for each prediction.\",\n",
    "    \"Predictive Entropy estimates uncertainty by averaging the entropy of softmax probabilities across multiple samples generated with dropout.\",\n",
    "    \"Mutual Information computes uncertainty by measuring the mutual information between the model's softmax probabilities and a uniform distribution.\"\n",
    "]\n",
    "\n",
    "for description in description_list:\n",
    "    print(f\"- {description}\")\n",
    "\n",
    "print(\n",
    "\"\"\"\n",
    "- Risk = 1 - Accuracy, where Accuracy is the mean accuracy (normalised) over the samples included in the Coverage.\n",
    "- Coverage is the normalised number of samples over the total samples. Coverage decreases as the most uncertain samples are removed.\n",
    "- Area Under Risk Coverage (AURC) is the area under the Risk Coverage curve.\n",
    "\n",
    "- Classes:\n",
    "    - Melanoma (MEL)\n",
    "    - Melanocytic nevus (NV)\n",
    "    - Basal cell carcinoma (BCC)\n",
    "    - Actinic keratosis (AK)\n",
    "    - Benign keratosis (BKL) \n",
    "        [solar lentigo / seborrheic keratosis / lichen planus-like keratosis]\n",
    "    - Dermatofibroma (DF)\n",
    "    - Vascular lesion (VASC)\n",
    "    - Squamous cell carcinoma (SCC)\n",
    "    - None of the others (UNK)\n",
    "\"\"\"\n",
    ")"
   ]
  },
  {
   "cell_type": "code",
   "execution_count": null,
   "metadata": {
    "id": "Gg6WwxuGrOsn"
   },
   "outputs": [],
   "source": [
    "print(f\"All Classes: {len(risks_list[0])} samples\")\n",
    "x_smooth_percentage_interp, x_smooth_percentage = smooth_calcs(risks_list[0])\n",
    "calculate_aurc(risks_list, labels_list, x_smooth_percentage_interp, x_smooth_percentage)\n",
    "# Plot the risk coverage curve\n",
    "plot_risk_coverage(risks_list, labels_list, x_smooth_percentage_interp, x_smooth_percentage)\n",
    "\n",
    "for i in range(len(class_names)):\n",
    "    print(f\"{class_names[i]}: {len(risks_list_by_class[i][0])} samples\")\n",
    "    x_smooth_percentage_interp, x_smooth_percentage = smooth_calcs(risks_list_by_class[i][0])\n",
    "    calculate_aurc(risks_list_by_class[i], labels_list_by_class[i], x_smooth_percentage_interp, x_smooth_percentage)\n",
    "    # Plot the risk coverage curve\n",
    "    plot_risk_coverage(risks_list_by_class[i], labels_list_by_class[i], x_smooth_percentage_interp, x_smooth_percentage)\n",
    "    print()\n",
    "    \n",
    "print(\"done\")"
   ]
  },
  {
   "cell_type": "code",
   "execution_count": null,
   "metadata": {},
   "outputs": [],
   "source": []
  }
 ],
 "metadata": {
  "accelerator": "GPU",
  "colab": {
   "gpuType": "T4",
   "provenance": []
  },
  "kernelspec": {
   "display_name": "Python 3 (ipykernel)",
   "language": "python",
   "name": "python3"
  },
  "language_info": {
   "codemirror_mode": {
    "name": "ipython",
    "version": 3
   },
   "file_extension": ".py",
   "mimetype": "text/x-python",
   "name": "python",
   "nbconvert_exporter": "python",
   "pygments_lexer": "ipython3",
   "version": "3.11.7"
  }
 },
 "nbformat": 4,
 "nbformat_minor": 4
}
